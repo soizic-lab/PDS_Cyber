{
 "cells": [
  {
   "cell_type": "markdown",
   "id": "fb42a481-a3c7-4777-a516-8758803ef4f1",
   "metadata": {},
   "source": [
    "# Hades: Practical Decentralized Identity with Full Accountability and Fine-grained Sybil-resistance from ACSAC 2023 from ACSAC 2023"
   ]
  },
  {
   "cell_type": "markdown",
   "id": "a83cc9ac-1095-4094-aafd-d7c8a70a46b6",
   "metadata": {},
   "source": [
    "## Install necessary libraries"
   ]
  },
  {
   "cell_type": "code",
   "execution_count": 27,
   "id": "432a4e55-f547-4554-8e19-658504014a4f",
   "metadata": {},
   "outputs": [
    {
     "name": "stdout",
     "output_type": "stream",
     "text": [
      "Requirement already satisfied: mergetb in /usr/local/lib/python3.10/dist-packages (1.3.15)\n",
      "Requirement already satisfied: paramiko>=3.4.0 in /usr/local/lib/python3.10/dist-packages (from mergetb) (3.4.1)\n",
      "Requirement already satisfied: timeout-timer>=0.2.0 in /usr/local/lib/python3.10/dist-packages (from mergetb) (0.2.0)\n",
      "Requirement already satisfied: googleapis-common-protos>=1.63.0 in /usr/local/lib/python3.10/dist-packages (from mergetb) (1.65.0)\n",
      "Requirement already satisfied: mergetbapi>=v1.3.11 in /usr/local/lib/python3.10/dist-packages (from mergetb) (1.3.11)\n",
      "Requirement already satisfied: pwinput>=1.0.3 in /usr/local/lib/python3.10/dist-packages (from mergetb) (1.0.3)\n",
      "Requirement already satisfied: validators>=0.33.0 in /usr/local/lib/python3.10/dist-packages (from mergetb) (0.34.0)\n",
      "Requirement already satisfied: grpclib>=0.4.7 in /usr/local/lib/python3.10/dist-packages (from mergetb) (0.4.7)\n",
      "Requirement already satisfied: betterproto>=2.0.0b6 in /usr/local/lib/python3.10/dist-packages (from mergetb) (2.0.0b7)\n",
      "Requirement already satisfied: python-dateutil<3.0,>=2.8 in /usr/local/lib/python3.10/dist-packages (from betterproto>=2.0.0b6->mergetb) (2.9.0.post0)\n",
      "Requirement already satisfied: typing-extensions<5.0.0,>=4.7.1 in /usr/local/lib/python3.10/dist-packages (from betterproto>=2.0.0b6->mergetb) (4.12.2)\n",
      "Requirement already satisfied: protobuf!=3.20.0,!=3.20.1,!=4.21.1,!=4.21.2,!=4.21.3,!=4.21.4,!=4.21.5,<6.0.0.dev0,>=3.20.2 in /usr/local/lib/python3.10/dist-packages (from googleapis-common-protos>=1.63.0->mergetb) (5.28.0)\n",
      "Requirement already satisfied: h2<5,>=3.1.0 in /usr/local/lib/python3.10/dist-packages (from grpclib>=0.4.7->mergetb) (4.1.0)\n",
      "Requirement already satisfied: multidict in /usr/local/lib/python3.10/dist-packages (from grpclib>=0.4.7->mergetb) (6.1.0)\n",
      "Requirement already satisfied: bcrypt>=3.2 in /usr/local/lib/python3.10/dist-packages (from paramiko>=3.4.0->mergetb) (4.2.0)\n",
      "Requirement already satisfied: pynacl>=1.5 in /usr/local/lib/python3.10/dist-packages (from paramiko>=3.4.0->mergetb) (1.5.0)\n",
      "Requirement already satisfied: cryptography>=3.3 in /usr/local/lib/python3.10/dist-packages (from paramiko>=3.4.0->mergetb) (43.0.1)\n",
      "Requirement already satisfied: cffi>=1.12 in /usr/local/lib/python3.10/dist-packages (from cryptography>=3.3->paramiko>=3.4.0->mergetb) (1.17.1)\n",
      "Requirement already satisfied: hpack<5,>=4.0 in /usr/local/lib/python3.10/dist-packages (from h2<5,>=3.1.0->grpclib>=0.4.7->mergetb) (4.0.0)\n",
      "Requirement already satisfied: hyperframe<7,>=6.0 in /usr/local/lib/python3.10/dist-packages (from h2<5,>=3.1.0->grpclib>=0.4.7->mergetb) (6.0.1)\n",
      "Requirement already satisfied: six>=1.5 in /usr/local/lib/python3.10/dist-packages (from python-dateutil<3.0,>=2.8->betterproto>=2.0.0b6->mergetb) (1.16.0)\n",
      "Requirement already satisfied: pycparser in /usr/local/lib/python3.10/dist-packages (from cffi>=1.12->cryptography>=3.3->paramiko>=3.4.0->mergetb) (2.22)\n",
      "\u001b[33mWARNING: Running pip as the 'root' user can result in broken permissions and conflicting behaviour with the system package manager. It is recommended to use a virtual environment instead: https://pip.pypa.io/warnings/venv\u001b[0m\u001b[33m\n",
      "\u001b[0mRequirement already satisfied: timeout-timer in /usr/local/lib/python3.10/dist-packages (0.2.0)\n",
      "\u001b[33mWARNING: Running pip as the 'root' user can result in broken permissions and conflicting behaviour with the system package manager. It is recommended to use a virtual environment instead: https://pip.pypa.io/warnings/venv\u001b[0m\u001b[33m\n",
      "\u001b[0m"
     ]
    }
   ],
   "source": [
    "!pip install --upgrade mergetb\n",
    "!pip install timeout-timer"
   ]
  },
  {
   "cell_type": "markdown",
   "id": "0b0fb876-7f83-4f10-95a5-94ed56e57295",
   "metadata": {},
   "source": [
    "## Import necessary libraries"
   ]
  },
  {
   "cell_type": "code",
   "execution_count": 28,
   "id": "07579edd-c2bc-4cc9-a412-036461749c63",
   "metadata": {},
   "outputs": [],
   "source": [
    "import time, socket\n",
    "from timeout_timer import timeout, TimeoutInterrupt\n",
    "import subprocess\n",
    "\n",
    "from mergetb.workspace import User, Experiment, Project\n",
    "from mergetb.realize import Realization\n",
    "from mergetb.materialize import Materialization\n",
    "from mergetb.grpc_client import MergeGRPCError\n",
    "from mergetb.types import StatusType"
   ]
  },
  {
   "cell_type": "markdown",
   "id": "24b3b358-037f-4bd4-9117-5021824af54a",
   "metadata": {},
   "source": [
    "## Log in as user¶"
   ]
  },
  {
   "cell_type": "code",
   "execution_count": 33,
   "id": "d2faa850-c24c-4f82-b3c2-2d4c97cfa4d4",
   "metadata": {},
   "outputs": [
    {
     "name": "stdout",
     "output_type": "stream",
     "text": [
      "Logged in as user marine\n"
     ]
    }
   ],
   "source": [
    "username='marine'\n",
    "passw='0m@rine1!!'\n",
    "\n",
    "try:\n",
    "    u = User(username, passw)\n",
    "    u.login()\n",
    "except MergeGRPCError as e:\n",
    "    print(f\"Error logging in: {e}\")\n",
    "else:\n",
    "    print(\"Logged in as user\", u.username)"
   ]
  },
  {
   "cell_type": "markdown",
   "id": "8eec0786-5e15-41d6-9a4b-5ed5b2ff0ad2",
   "metadata": {},
   "source": [
    "## Find or create experiment"
   ]
  },
  {
   "cell_type": "code",
   "execution_count": 34,
   "id": "0e9b3601-5668-43d9-8e4a-c83b2b189eaf",
   "metadata": {},
   "outputs": [
    {
     "name": "stdout",
     "output_type": "stream",
     "text": [
      "experiment hadestry created\n"
     ]
    }
   ],
   "source": [
    "try:\n",
    "    # load the user's personal project\n",
    "    p = Project(username)\n",
    "    resp = p.get()\n",
    "\n",
    "    # look for the experiment, create if it does not exist\n",
    "    for exp in resp.project.experiments:\n",
    "        if exp == 'hadestry':\n",
    "            print('experiment hadestry already exists')\n",
    "            break\n",
    "    else:\n",
    "        e = Experiment('hadestry', username)\n",
    "        e.create()\n",
    "        print('experiment hadestry created')\n",
    "    \n",
    "except MergeGRPCError as e:\n",
    "    print(e)\n",
    "#proj = m.find_project(username)\n",
    "#exp = m.find_experiment('hades', proj.name)\n",
    "#if exp == None:\n",
    "#    exp = m.create_experiment('hades', proj.name)"
   ]
  },
  {
   "cell_type": "markdown",
   "id": "86185438-9325-415c-a987-798796740fe7",
   "metadata": {},
   "source": [
    "## Push model, allocate resources and attach the experiment to the XDC"
   ]
  },
  {
   "cell_type": "code",
   "execution_count": 35,
   "id": "1e4d08be-e05a-4a02-8466-66ce590ab58b",
   "metadata": {},
   "outputs": [
    {
     "name": "stdout",
     "output_type": "stream",
     "text": [
      "Pushed experiment revision aefaee38b4386494b607a2f1c7f190763ff37d25\n",
      "leased resources\n",
      "  [stream_terminated: attempting try 2 out of 5]\n",
      "started experiment\n",
      "Attached experiment is now running\n"
     ]
    }
   ],
   "source": [
    "RLZ_TIMEOUT=15\n",
    "MTZ_TIMEOUT=60\n",
    "\n",
    "try:\n",
    "    exp = Experiment('hadestry', username)\n",
    "    rev = exp.push_model('/project/marine/notebooks/hades.model').revision\n",
    "    print(\"Pushed experiment revision\", rev)\n",
    "    time.sleep(5)\n",
    "    \n",
    "    # reserve resources through a lease named 'v1' (name is arbitrary)\n",
    "    exp.reserve('vtry', revision=rev)\n",
    "\n",
    "    # wait up for 10 sec for reservation to succeed\n",
    "    try:\n",
    "        rlz = Realization('vtry', exp.name, exp.project)\n",
    "        with timeout(RLZ_TIMEOUT):\n",
    "            while True:\n",
    "                resp = rlz.get()\n",
    "                status = resp.status.highest_status\n",
    "\n",
    "                if status == StatusType.Success:\n",
    "                    print('leased resources')\n",
    "                    break\n",
    "    except TimeoutInterrupt:\n",
    "        raise Exception('reservation did not succeed within %d seconds' % RLZ_TIMEOUT)\n",
    "\n",
    "    # activate experiment on this lease\n",
    "    exp.activate('vtry')\n",
    "\n",
    "    # wait up to 60 sec for activation to succeed\n",
    "    try:\n",
    "        mtz = Materialization('vtry', exp.name, exp.project)\n",
    "        with timeout(MTZ_TIMEOUT):\n",
    "            while True:\n",
    "                resp = mtz.get()\n",
    "                status = resp.status.highest_status\n",
    "\n",
    "                if status == StatusType.Success:\n",
    "                    print('started experiment')\n",
    "                    break\n",
    "    except TimeoutInterrupt:\n",
    "        raise Exception('activation did not succeed within %d seconds' % MTZ_TIMEOUT)\n",
    "\n",
    "    hostname = socket.gethostname().split('-')[0].split('.')[0]\n",
    "    exp.attach_xdc('vtry', hostname, username)\n",
    "    time.sleep(15)\n",
    "    print(\"Attached experiment is now running\")\n",
    "except MergeGRPCError as e:\n",
    "    print(e)"
   ]
  },
  {
   "cell_type": "markdown",
   "id": "c9bd6c07-2c1f-414f-8bed-6019cf575588",
   "metadata": {},
   "source": [
    "## Run commands in experiment to clone the artifact, install prerequisites, fix some bugs and execute one script in the artifact¶"
   ]
  },
  {
   "cell_type": "code",
   "execution_count": 38,
   "id": "4d6a993a-34e7-4235-a2c4-31e54ca33f50",
   "metadata": {},
   "outputs": [
    {
     "name": "stdout",
     "output_type": "stream",
     "text": [
      "Modification of wallet id, line 29 of bench.rs, you may need to modify line 33 as well\n",
      "Will now execute the code for theoretical utility comparison\n",
      "--- Running comparison code ---\n",
      "1. Start setting up the committee:\n",
      "thread 'main' panicked at src/main.rs:6:30:\n",
      "called `Result::unwrap()` on an `Err` value: No such file or directory (os error 2)\n",
      "\n",
      "Location:\n",
      "/home/marine/Hades/src/bench.rs:38:19\n",
      "note: run with `RUST_BACKTRACE=1` environment variable to display a backtrace\n"
     ]
    }
   ],
   "source": [
    "exp = Experiment('hades', username)\n",
    "def print_lines(label, lines, elines):\n",
    "    print(f\"--- {label} ---\")\n",
    "    for line in lines:\n",
    "        print(line.strip())\n",
    "    for eline in elines:\n",
    "        print(eline.strip())\n",
    "\n",
    "installpackages = \"sudo apt-get update && sudo apt install -y git\"\n",
    "clonerepo = \"git clone https://github.com/didnet/Hades.git\"\n",
    "packagesartifact1 = (\n",
    "    \"sudo apt update; sudo apt install -y build-essential;\"\n",
    "    \"curl --proto '=https' --tlsv1.2 https://sh.rustup.rs -sSf | sh -s -- -y;\"\n",
    "    \". $HOME/.cargo/env\"\n",
    ")\n",
    "packagesartifact2 = \". $HOME/.cargo/env; git clone https://github.com/iden3/circom.git; cd circom; cargo build --release; cargo install --path circom; cd ..\"\n",
    "packagesartifact3 = \". $HOME/.cargo/env; cd Hades; circom --r1cs --wasm circuits/pseudonym_check.circom; circom --r1cs --wasm circuits/sybil_check.circom; circom --r1cs --wasm circuits/pedersen_commit.circom; circom --r1cs --wasm circuits/tpke_single.circom; cargo build --release\"\n",
    "letwallet =\"\"\". $HOME/.cargo/env; cd Hades/src; sed -i '29s|let wallet = \".*\"|let wallet = \"Your_new_number_here\";|' /home/marine/Hades/src/bench.rs\"\"\"\n",
    "walletid=\"\"\" sed -i '33s|let client = SignerMiddleware::new(provider.clone(), wallet.with_chain_id(97u64));|let client = SignerMiddleware::new(provider.clone(), wallet.with_chain_id(new_wallet_id));|' /home/marine/Hades/src/bench.rs;  cd ..\"\"\"\n",
    "\n",
    "runcode = \". $HOME/.cargo/env ; Hades/target/release/hades\"\n",
    "\n",
    "# Install packages\n",
    "#print(\"Installing packages, this may take a while...\")\n",
    "#lines, elines = exp.exec_on_node(username, \"nodehades\", installpackages)\n",
    "#print_lines(\"Installing packages\", lines, elines)\n",
    "\n",
    "# Clone artifact repository\n",
    "#print(\"Cloning artifact repository\")\n",
    "#lines, elines = exp.exec_on_node(username, \"nodehades\", clonerepo)\n",
    "#print_lines(\"Cloning artifact repository\", lines, elines)\n",
    "\n",
    "# Install additional packages and configure environment for Rust\n",
    "#print(\"Installing some more packages\")\n",
    "#lines, elines = exp.exec_on_node(username, \"nodehades\", packagesartifact1)\n",
    "#print_lines(\"Installing more packages\", lines, elines)\n",
    "\n",
    "# Execute further installation steps\n",
    "#print(\"Executing further installation steps\")\n",
    "#lines, elines = exp.exec_on_node(username, \"nodehades\", packagesartifact2)\n",
    "#print_lines(\"Installing artifacts\", lines, elines)\n",
    "#lines, elines = exp.exec_on_node(username, \"nodehades\", packagesartifact3)\n",
    "#print_lines(\"Installing artifacts\", lines, elines)\n",
    "\n",
    "#modify wallet id\n",
    "print(\"Modification of wallet id, line 29 of bench.rs, you may need to modify line 33 as well\")\n",
    "lines, elines = exp.exec_on_node(username, \"nodehades\", letwallet)\n",
    "lines, elines = exp.exec_on_node(username, \"nodehades\", walletid)\n",
    "\n",
    "\n",
    "# Execute the final code for utility comparison\n",
    "print(\"Will now execute the code for theoretical utility comparison\")\n",
    "lines, elines = exp.exec_on_node(username, \"nodehades\", runcode)\n",
    "print_lines(\"Running comparison code\", lines, elines)\n"
   ]
  },
  {
   "cell_type": "code",
   "execution_count": null,
   "id": "474d39d2-7dc9-4bde-b7a6-cdf65854ae19",
   "metadata": {},
   "outputs": [],
   "source": []
  },
  {
   "cell_type": "code",
   "execution_count": null,
   "id": "932f994b-7e6e-4791-917a-b77885936fa8",
   "metadata": {},
   "outputs": [],
   "source": []
  },
  {
   "cell_type": "code",
   "execution_count": null,
   "id": "60eaa57b-ce73-41ac-a6b3-4cced406099a",
   "metadata": {},
   "outputs": [],
   "source": []
  },
  {
   "cell_type": "code",
   "execution_count": null,
   "id": "5d2777cd-55e0-4e2e-8783-6a10be5b5fa5",
   "metadata": {},
   "outputs": [],
   "source": []
  }
 ],
 "metadata": {
  "kernelspec": {
   "display_name": "Python 3 (ipykernel)",
   "language": "python",
   "name": "python3"
  },
  "language_info": {
   "codemirror_mode": {
    "name": "ipython",
    "version": 3
   },
   "file_extension": ".py",
   "mimetype": "text/x-python",
   "name": "python",
   "nbconvert_exporter": "python",
   "pygments_lexer": "ipython3",
   "version": "3.10.12"
  }
 },
 "nbformat": 4,
 "nbformat_minor": 5
}
